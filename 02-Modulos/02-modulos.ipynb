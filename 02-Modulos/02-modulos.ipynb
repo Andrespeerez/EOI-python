{
 "cells": [
  {
   "attachments": {},
   "cell_type": "markdown",
   "metadata": {},
   "source": [
    "# MODULOS, FUNCIONES Y CLASES\n",
    "\n",
    "## CREAR/IMPORTAR DE UN MODULO\n",
    "------------------------\n",
    "\n",
    "Para importar un modulo se utilizan las palabras reservadas **import**. En el caso de querer solo importar una función o variable sin importar todo el módulo se utiliza la palabra reservada **from**/**import**.\n",
    "\n",
    "1. Importar el módulo completo:\n",
    "\n",
    "```\n",
    "import modulo1\n",
    "```\n",
    "\n",
    "2. Importar una función concreta del módulo:\n",
    "\n",
    "```\n",
    "from modulo1 import saludar\n",
    "```\n",
    "\n",
    "3. Importar usando un alias:\n",
    "\n",
    "```\n",
    "from modulo1 import saludar as sal\n",
    "```"
   ]
  }
 ],
 "metadata": {
  "kernelspec": {
   "display_name": "Python 3",
   "language": "python",
   "name": "python3"
  },
  "language_info": {
   "codemirror_mode": {
    "name": "ipython",
    "version": 3
   },
   "file_extension": ".py",
   "mimetype": "text/x-python",
   "name": "python",
   "nbconvert_exporter": "python",
   "pygments_lexer": "ipython3",
   "version": "3.10.6"
  },
  "orig_nbformat": 4,
  "vscode": {
   "interpreter": {
    "hash": "31f2aee4e71d21fbe5cf8b01ff0e069b9275f58929596ceb00d14d90e3e16cd6"
   }
  }
 },
 "nbformat": 4,
 "nbformat_minor": 2
}
