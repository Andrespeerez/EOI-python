{
 "cells": [
  {
   "attachments": {},
   "cell_type": "markdown",
   "metadata": {},
   "source": [
    "# MICROSERVICIOS\n",
    "-------------------\n",
    "\n",
    "Para trabajar en python con http vamos a usar el módulo *requests*:"
   ]
  },
  {
   "cell_type": "code",
   "execution_count": 1,
   "metadata": {},
   "outputs": [],
   "source": [
    "import requests"
   ]
  },
  {
   "attachments": {},
   "cell_type": "markdown",
   "metadata": {},
   "source": [
    "Este módulo permite realizar comunicaciones empleando el protocolo http. Para realizar una llamada empleamos el módulo con el correspondiente método para la comunicación. \n",
    "\n",
    "1. requests.get()\n",
    "1. requests.post()\n",
    "1. requests.put()\n",
    "1. requests.delete()\n",
    "\n",
    "Los requests tienen un *headers* y un *body*. Podemos acceder a la cabeceza usando *.headers()*\n",
    "\n"
   ]
  },
  {
   "attachments": {},
   "cell_type": "markdown",
   "metadata": {},
   "source": [
    "## GET:"
   ]
  },
  {
   "cell_type": "code",
   "execution_count": 4,
   "metadata": {},
   "outputs": [
    {
     "name": "stdout",
     "output_type": "stream",
     "text": [
      "Codigo de estado : 200\n",
      "Estado : OK\n",
      "\n",
      "Cabeceras {'Server': 'nginx/1.10.3', 'Date': 'Thu, 16 Mar 2023 08:13:21 GMT', 'Content-Type': 'application/json', 'Content-Length': '113', 'Connection': 'keep-alive', 'access-control-allow-origin': '*'}\n",
      "\n",
      "Content-Type application/json\n",
      "Content-Length 113 bytes\n"
     ]
    }
   ],
   "source": [
    "import requests, pprint\n",
    "\n",
    "force_error = False  # cambia esto\n",
    "if(force_error):\n",
    "    # endpoint del microservicio\n",
    "    url = \"http://api.open-notify.org/iss-now.json2\"\n",
    "else:\n",
    "    # endpoint del microservicio\n",
    "    url = \"http://api.open-notify.org/iss-now.json\"\n",
    "\n",
    "# empleamos get() para realizar una llamada GET\n",
    "# la función get() retorna una respuesta\n",
    "response = requests.get(url)\n",
    "\n",
    "# Mostrar el código de estado\n",
    "print(f\"Codigo de estado : {response.status_code}\")\n",
    "print(f\"Estado : {response.reason}\") \n",
    "\n",
    "print()\n",
    "\n",
    "# Pintar las cabezeras\n",
    "print(\"Cabeceras\", response.headers)\n",
    "print(\"\\nContent-Type\", response.headers['Content-Type'])\n",
    "print(\"Content-Length\", response.headers['Content-Length'], 'bytes')\n",
    "\n",
    "# Pintar el cuerpo\n",
    "print(\"\\nContenido\", response.content) # en modo bytes\n",
    "print(\"Contenido\", response.text) # en modo texto\n",
    "\n",
    "\n",
    "if(response.status_code == 200 and \n",
    "   response.headers['Content-Type'] == 'application/json'):\n",
    "    data = response.json()\n",
    "    print(f\"\\nMensaje: {data['message']}\")\n",
    "    print(f\"Longitud: {data['iss_position']['longitude']}\")\n",
    "    print(f\"Latitud: {data['iss_position']['latitude']}\")\n"
   ]
  },
  {
   "attachments": {},
   "cell_type": "markdown",
   "metadata": {},
   "source": [
    "En este ejemplo conectamos con éxito con un microservicio y obtenemos el mensaje de estado 200 con la razón OK. En el mismo ejemplo tenemos un bloque para forzar un mensaje de error con la función *get()* al añadir una URL erronea. Esto crea un mensaje de estado tipo 400 (cliente), concretamente el 404, con razón Not Found.\n",
    "\n",
    "En el anterior ejemplo hemos también pintado las cabeceras *response.headers*. Esto es un diccionario que incluye la información más relevante de la respuesta. \n",
    "\n",
    "También vemos que la respuesta que hemos recibido es un json y su tamaño en bytes. Al recibir la información que que tipo de respuesta hemos tenido (json o xml) podemos derivar la forma de tratar con los resultados por una via o otra, pudiendo conectar la aplicación con distintos tipos de respuesta y procesar el contenido."
   ]
  },
  {
   "attachments": {},
   "cell_type": "markdown",
   "metadata": {},
   "source": [
    "## POST:"
   ]
  },
  {
   "cell_type": "code",
   "execution_count": null,
   "metadata": {},
   "outputs": [],
   "source": [
    "import requests, pprint\n",
    "\n",
    "url = \"https://postman-echo.com/post\"\n",
    "\n",
    "\n",
    "myHeaders = {\n",
    "    \"Content-Type\": \"application/json\",\n",
    "    \"api-key\": \"jdsjeuurksmd~$dkf\"\n",
    "}\n",
    "myParams = {\n",
    "    \"id\": 100,\n",
    "    \"process\": \"orders\"\n",
    "}\n",
    "myData = {\n",
    "    \"text\": \"Supercalifragilistico\"\n",
    "}\n",
    "\n",
    "#response = requests.post(url, params=myParams, headers=myHeaders, data=myData)\n",
    "response = requests.request(\"POST\", url, params=myParams, headers=myHeaders, data=myData)\n",
    "\n",
    "# Mostrar el código de estado\n",
    "print(f\"Codigo de estado : {response.status_code}\")\n",
    "print(f\"Estado : {response.reason}\") \n",
    "\n",
    "print()\n",
    "\n",
    "# Pintar las cabezeras\n",
    "print(\"Cabeceras\", response.headers)\n",
    "print(\"\\nContent-Type\", response.headers['Content-Type'])\n",
    "print(\"Content-Length\", response.headers['Content-Length'], 'bytes')\n",
    "\n",
    "# Pintar el cuerpo\n",
    "print(\"\\nContenido\", response.content) # en modo bytes\n",
    "print(\"Contenido\", response.text) # en modo texto"
   ]
  }
 ],
 "metadata": {
  "kernelspec": {
   "display_name": "Python 3",
   "language": "python",
   "name": "python3"
  },
  "language_info": {
   "codemirror_mode": {
    "name": "ipython",
    "version": 3
   },
   "file_extension": ".py",
   "mimetype": "text/x-python",
   "name": "python",
   "nbconvert_exporter": "python",
   "pygments_lexer": "ipython3",
   "version": "3.10.6"
  },
  "orig_nbformat": 4,
  "vscode": {
   "interpreter": {
    "hash": "31f2aee4e71d21fbe5cf8b01ff0e069b9275f58929596ceb00d14d90e3e16cd6"
   }
  }
 },
 "nbformat": 4,
 "nbformat_minor": 2
}
