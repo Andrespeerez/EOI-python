{
 "cells": [
  {
   "attachments": {},
   "cell_type": "markdown",
   "metadata": {},
   "source": [
    "# MICROSERVICIOS\n",
    "-------------------\n",
    "\n",
    "Para trabajar en python con http vamos a usar el módulo *requests*:"
   ]
  },
  {
   "cell_type": "code",
   "execution_count": 1,
   "metadata": {},
   "outputs": [],
   "source": [
    "import requests"
   ]
  },
  {
   "attachments": {},
   "cell_type": "markdown",
   "metadata": {},
   "source": [
    "Este módulo permite realizar comunicaciones empleando el protocolo http. Para realizar una llamada empleamos el módulo con el correspondiente método para la comunicación. \n",
    "\n",
    "1. requests.get()\n",
    "1. requests.post()\n",
    "1. requests.put()\n",
    "1. requests.delete()\n",
    "\n",
    "Los requests tienen un *headers* y un *body*. Podemos acceder a la cabeceza usando *.headers()*\n",
    "\n"
   ]
  }
 ],
 "metadata": {
  "kernelspec": {
   "display_name": "Python 3",
   "language": "python",
   "name": "python3"
  },
  "language_info": {
   "codemirror_mode": {
    "name": "ipython",
    "version": 3
   },
   "file_extension": ".py",
   "mimetype": "text/x-python",
   "name": "python",
   "nbconvert_exporter": "python",
   "pygments_lexer": "ipython3",
   "version": "3.10.6"
  },
  "orig_nbformat": 4,
  "vscode": {
   "interpreter": {
    "hash": "31f2aee4e71d21fbe5cf8b01ff0e069b9275f58929596ceb00d14d90e3e16cd6"
   }
  }
 },
 "nbformat": 4,
 "nbformat_minor": 2
}
