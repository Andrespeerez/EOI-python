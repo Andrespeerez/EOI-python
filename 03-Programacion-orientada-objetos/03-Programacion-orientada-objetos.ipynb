{
 "cells": [
  {
   "attachments": {},
   "cell_type": "markdown",
   "metadata": {},
   "source": [
    "## FUNCIONES\n",
    "-------------------\n",
    "\n",
    "Para definir una función utilizamos la palabra reservada **def**. Las funciones pueden tomar o no parámetros. Esos parámetros son pasados a la función entre paréntesis."
   ]
  },
  {
   "cell_type": "code",
   "execution_count": null,
   "metadata": {},
   "outputs": [],
   "source": [
    "def holaMundo():\n",
    "    print(\"Hola mundo\")\n",
    "\n",
    "def saluda(nombre):\n",
    "    print(f\"Hola {nombre}\")\n",
    "\n",
    "n1 = \"Marta\"\n",
    "saluda(\"Andres\")\n",
    "saluda(n1)\n",
    "holaMundo()"
   ]
  },
  {
   "attachments": {},
   "cell_type": "markdown",
   "metadata": {},
   "source": [
    "Las funciones pueden recibir más de un parámetros. En dicho caso, el orden posicional de cada entrada está asociado a cada una de los valores que toma la función. También podemos especificar a que parámetro queremos asignar la entrada. Ej."
   ]
  },
  {
   "cell_type": "code",
   "execution_count": null,
   "metadata": {},
   "outputs": [],
   "source": [
    "def dividir(num1, num2=10):\n",
    "    if(num2 != 0):\n",
    "        print(f\"{num1/num2}\")\n",
    "\n",
    "# el nombre del parámetro que le pasemos es indiferente\n",
    "# el nombre con el que trabaja la función es interno\n",
    "num1 = 2\n",
    "num2 = 4\n",
    "dividir(num1, num2) \n",
    "dividir(num2, num1) # invertir el order de los parámetros cambia el resultado\n",
    "\n",
    "# Se puede expecificar que parámetro  se asigna a cada entrada\n",
    "a = 2\n",
    "b = 4\n",
    "dividir(num2=b, num1=a) # defino que valor va a tomar el parámetro interno\n",
    "dividir(num1=a, num2=b)\n",
    "\n",
    "dividir(num1=30) # tomará num2=10 que es el predetermiado"
   ]
  },
  {
   "attachments": {},
   "cell_type": "markdown",
   "metadata": {},
   "source": [
    "Todas las funciones que hemos mostrado anteriormente no retorna nada. Son funciones que pintar en la consola cierta información, pero no podemos guardar el resultado. Para pedirle que retorne un valor necesitamos incluir la palabra reservada **return**\n",
    "\n",
    "```\n",
    "def function(value)\n",
    "    return value\n",
    "```"
   ]
  },
  {
   "cell_type": "code",
   "execution_count": null,
   "metadata": {},
   "outputs": [],
   "source": [
    "def sum(num1, num2):\n",
    "    return num1+num2\n",
    "\n",
    "num = sum(2, 4)\n",
    "\n",
    "print(num)"
   ]
  },
  {
   "attachments": {},
   "cell_type": "markdown",
   "metadata": {},
   "source": [
    "Si necesitamos añadir muchos parámetros podemos usar **\\*args**. Esto sería tratado internamente como una lista dentro de la función. También podemos usar **\\*\\*kwargs** que sería tratado como un diccionario."
   ]
  },
  {
   "cell_type": "code",
   "execution_count": null,
   "metadata": {},
   "outputs": [],
   "source": [
    "def function(*args):\n",
    "    for ii in args:\n",
    "        print(ii)\n",
    "\n",
    "function(\"Andres\", 29, \"Villajoyosa\")\n",
    "\n",
    "def function2(**kwargs):\n",
    "    for ii in kwargs:\n",
    "        print(f\"{ii} : {kwargs[ii]}\")\n",
    "\n",
    "function2(nombre=\"Andres\", edad=29, ciudad=\"Villajoyosa\")"
   ]
  },
  {
   "attachments": {},
   "cell_type": "markdown",
   "metadata": {},
   "source": [
    "## LAMBDA\n",
    "--------\n",
    "\n",
    "Las funciones **lambda** son funciones anónimas que se invocan rápidamente. **lambda** permite pasar funciones a otras funciones como argumento, guardando como variable una función."
   ]
  },
  {
   "cell_type": "code",
   "execution_count": 4,
   "metadata": {},
   "outputs": [
    {
     "name": "stdout",
     "output_type": "stream",
     "text": [
      "Hola, me llamo Ana\n",
      "1\n",
      "7\n"
     ]
    }
   ],
   "source": [
    "demo = lambda nombre : print(f\"Hola, me llamo {nombre}\")\n",
    "\n",
    "demo(\"Ana\")\n",
    "\n",
    "####################################\n",
    "\n",
    "def sumar(num):\n",
    "    return lambda a : a + num\n",
    "\n",
    "def restar(num):\n",
    "    return lambda a : a - num\n",
    "\n",
    "resta2 = restar(2)\n",
    "\n",
    "print(resta2(3))\n",
    "\n",
    "def calcular(formula, valor):\n",
    "    return formula(valor)\n",
    "\n",
    "print(calcular(sumar(3), 4))"
   ]
  }
 ],
 "metadata": {
  "kernelspec": {
   "display_name": "Python 3",
   "language": "python",
   "name": "python3"
  },
  "language_info": {
   "codemirror_mode": {
    "name": "ipython",
    "version": 3
   },
   "file_extension": ".py",
   "mimetype": "text/x-python",
   "name": "python",
   "nbconvert_exporter": "python",
   "pygments_lexer": "ipython3",
   "version": "3.10.6"
  },
  "orig_nbformat": 4,
  "vscode": {
   "interpreter": {
    "hash": "916dbcbb3f70747c44a77c7bcd40155683ae19c65e1c03b4aa3499c5328201f1"
   }
  }
 },
 "nbformat": 4,
 "nbformat_minor": 2
}
