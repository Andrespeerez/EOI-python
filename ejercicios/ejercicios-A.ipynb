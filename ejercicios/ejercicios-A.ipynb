{
 "cells": [
  {
   "attachments": {},
   "cell_type": "markdown",
   "metadata": {},
   "source": [
    "### Ejercicio 1A\n",
    "\n",
    "Escribe una función para calcular el consumo medio de combustible de un vehículo.\n",
    "\n",
    "Entrada de datos: \n",
    "* Kilometros recorridos\n",
    "* Listros de combustible consumidos\n",
    "\n",
    "Salida de datos:\n",
    "* litros consumidos por kilimetro"
   ]
  },
  {
   "cell_type": "code",
   "execution_count": null,
   "metadata": {},
   "outputs": [],
   "source": [
    "# Ejercicio 1A\n",
    "\n",
    "# toma de datos:\n",
    "entrada_km = input(\"¿Cuantos kilómetros has recorrido? (en km)\\n\")\n",
    "entrada_consumo = input(\"¿Cuanto combustible has gastado? (en L)\\n\")\n",
    "\n",
    "try:\n",
    "    if(entrada_km.isdigit() and entrada_consumo.isdigit()):\n",
    "        km_recorridos = float(entrada_km)\n",
    "        consumo       = float(entrada_consumo)\n",
    "\n",
    "        if(consumo == 0):\n",
    "            raise Exception(\"Viajar en bicicleta ha sido una buena decisión\")\n",
    "        if(km_recorridos == 0):\n",
    "            raise Exception(\"Introduzca una distancia distinta de cero\")\n",
    "        \n",
    "        print(f\"Tu consumo por km ha sido {consumo/km_recorridos} L/km\")\n",
    "    else:\n",
    "        raise Exception(\"Introduzca dos valores correctos\")\n",
    "except Exception as err:\n",
    "    print(err)"
   ]
  },
  {
   "attachments": {},
   "cell_type": "markdown",
   "metadata": {},
   "source": [
    "### Ejercicio 2A\n",
    "\n",
    "Escribir funciones para tranformar grados Celsius en Fahrenheit y viciversa.\n",
    "\n",
    "Formulas:   Celsius = (5 ÷ 9) x (Fahrenheit - 32)\n",
    "            Fahrenheit = (Celsius x (9 ÷ 5)) + 32\n",
    "\n",
    "Entrada de datos:\n",
    "* Grados Celsius/Fahrenheit\n",
    "\n",
    "Salida de datos:\n",
    "* Grados transformados"
   ]
  },
  {
   "cell_type": "code",
   "execution_count": 1,
   "metadata": {},
   "outputs": [
    {
     "name": "stdout",
     "output_type": "stream",
     "text": [
      "(77.0, 'F')\n",
      "25C >> 77.0F\n"
     ]
    }
   ],
   "source": [
    "# Ejercicio 2A\n",
    "\n",
    "# toma de datos:\n",
    "entrada_temperatura = input(\"Introduzca la temperatura en C o F (ej. 25C)\")\n",
    "\n",
    "def Transformar_temperatura(temp):\n",
    "    unidad = temp[-1]\n",
    "    valor = float(temp[:-1])\n",
    "\n",
    "    if(str(unidad).capitalize() == \"C\"):\n",
    "        resultado = (valor * (9/5)) + 32\n",
    "        unidad_salida = \"F\"\n",
    "    elif(str(unidad).capitalize() == \"F\"):\n",
    "        resultado = (valor-32) * (5/9)\n",
    "        unidad_salida = \"C\"\n",
    "\n",
    "    return resultado, unidad_salida\n",
    "\n",
    "\n",
    "try:\n",
    "    resultado = Transformar_temperatura(entrada_temperatura) # tupla\n",
    "except:\n",
    "    print(\"Introduce una entrada con el formato del ejemplo\")\n",
    "\n",
    "print(f\"{entrada_temperatura} >> {resultado[0]}{resultado[1]}\")"
   ]
  },
  {
   "attachments": {},
   "cell_type": "markdown",
   "metadata": {},
   "source": [
    "### Ejercicio 3A\n",
    "\n",
    "Escribe una función que calcule los impuesto a pagar depediendo el salario.\n",
    "\n",
    "Tabla:      Menos de 10.000              5%\n",
    "            Entre 10.000 y 20.000       15%\n",
    "            Entre 20.000 y 35.000       20%\n",
    "            Entre 35.000 y 60.000       30%\n",
    "            Más de 60.000               45%\n",
    "\n",
    "            En concepto de desempleo     4%\n",
    "            En concepto de formación   1,2%\n",
    "\n",
    "\n",
    "Entrada de datos:\n",
    "* Salario\n",
    "\n",
    "Salida de datos:\n",
    "* Datos desglosados"
   ]
  },
  {
   "cell_type": "code",
   "execution_count": 1,
   "metadata": {},
   "outputs": [
    {
     "name": "stdout",
     "output_type": "stream",
     "text": [
      "Debes de pagar 1530.0 de impuestos\n"
     ]
    }
   ],
   "source": [
    "# Ejercicio 3A\n",
    "\n",
    "# funcion impuestos\n",
    "def Calcula_impuesto(sal):\n",
    "    # calcular impuestos\n",
    "    if(sal > 0 and sal < 10000):\n",
    "        return sal * 0.05\n",
    "    elif(sal < 20000):\n",
    "        return sal * 0.15\n",
    "    elif(sal < 35000):\n",
    "        return sal * 0.20\n",
    "    elif(sal < 60000):\n",
    "        return sal * 0.30\n",
    "    else:\n",
    "        return sal * 0.45\n",
    "     \n",
    "\n",
    "# toma de datos\n",
    "salario_entrada = input(\"¿Cuanto ganas al año?\")\n",
    "\n",
    "try:\n",
    "    salario = float(salario_entrada)\n",
    "except:\n",
    "    print(\"Error: Entrada de datos erronea.\\nIntroduce un número\")\n",
    "    exit()\n",
    "\n",
    "impuestos = Calcula_impuesto(salario)\n",
    "print(f\"Debes de pagar {impuestos} de impuestos\")"
   ]
  },
  {
   "attachments": {},
   "cell_type": "markdown",
   "metadata": {},
   "source": [
    "### Ejercicio 4A\n",
    "\n",
    "Escribe una función que cuente las vocales de una frase.\n",
    "\n",
    "Entrada de datos:\n",
    "* Una frase\n",
    "\n",
    "Salida de datos:\n",
    "* Número de vocales desglosado"
   ]
  },
  {
   "cell_type": "code",
   "execution_count": 2,
   "metadata": {},
   "outputs": [
    {
     "name": "stdout",
     "output_type": "stream",
     "text": [
      "Desglose de vocales de la frase:\n",
      "Lorem ipsum dolor sit amet, consectetur adipiscing elit. Praesent nec vehicula sem. Proin sagittis enim vitae orci finibus, vitae ullamcorper nulla laoreet. Nulla facilisis urna neque, gravida mattis felis aliquam eleifend. Sed ac suscipit libero, vitae laoreet metus. Vestibulum sit amet scelerisque dui, eget lobortis mi. Aenean a posuere erat. Vestibulum pulvinar sit amet lectus ut commodo. Mauris egestas faucibus mattis. Sed vitae dolor eget ante scelerisque sodales. Duis ut nibh non mi maximus volutpat. Nullam mi nunc, rhoncus sit amet vehicula vitae, bibendum ac est.\n",
      "a  :  41\n",
      "e  :  59\n",
      "i  :  51\n",
      "o  :  22\n",
      "u  :  35\n"
     ]
    },
    {
     "data": {
      "text/plain": [
       "{'a': 41, 'e': 59, 'i': 51, 'o': 22, 'u': 35}"
      ]
     },
     "execution_count": 2,
     "metadata": {},
     "output_type": "execute_result"
    }
   ],
   "source": [
    "# Ejercicio 4A\n",
    "\n",
    "# funcion:\n",
    "def Saca_vocales(text):\n",
    "    vocales = {\n",
    "        \"a\": 0,\n",
    "        \"e\": 0,\n",
    "        \"i\": 0,\n",
    "        \"o\": 0,\n",
    "        \"u\": 0\n",
    "    }\n",
    "    try:\n",
    "        for ii in vocales:\n",
    "            vocales[ii] = frase.count(ii)\n",
    "            print(f\"{ii}  :  {vocales[ii]}\")\n",
    "            \n",
    "        return vocales\n",
    "    except:\n",
    "        print(\"Error\")\n",
    "\n",
    "\n",
    "# toma de datos:\n",
    "frase = \"Lorem ipsum dolor sit amet, consectetur adipiscing elit. Praesent nec vehicula sem. Proin sagittis enim vitae orci finibus, vitae ullamcorper nulla laoreet. Nulla facilisis urna neque, gravida mattis felis aliquam eleifend. Sed ac suscipit libero, vitae laoreet metus. Vestibulum sit amet scelerisque dui, eget lobortis mi. Aenean a posuere erat. Vestibulum pulvinar sit amet lectus ut commodo. Mauris egestas faucibus mattis. Sed vitae dolor eget ante scelerisque sodales. Duis ut nibh non mi maximus volutpat. Nullam mi nunc, rhoncus sit amet vehicula vitae, bibendum ac est.\"\n",
    "\n",
    "\n",
    "print(\"Desglose de vocales de la frase:\")\n",
    "print(frase)\n",
    "vocales = Saca_vocales(frase)\n"
   ]
  },
  {
   "attachments": {},
   "cell_type": "markdown",
   "metadata": {},
   "source": [
    "### Ejercicio 5A\n",
    "\n",
    "Escribe un programa que genere un número aleatorio. El usuario escribe números y el programa le responde si acertado y no acertado. Al no acertar debe indicarle si el número es menor o mayar.\n",
    "\n",
    "Entrada de datos:\n",
    "* Número\n",
    "\n",
    "Salida de datos:\n",
    "* Mensajes: has acertado; no has acertado, es menor; no has acertado es mayor"
   ]
  },
  {
   "cell_type": "code",
   "execution_count": null,
   "metadata": {},
   "outputs": [],
   "source": [
    "# EJERCICIO 5A\n",
    "import random\n",
    "\n",
    "menor = 1\n",
    "mayor = 20\n",
    "numero1 = random.randint(menor, mayor)\n",
    "\n",
    "numIntentos = 0\n",
    "while True:\n",
    "    try:\n",
    "        entrada = input(f\"Dime un número entre {menor} y {mayor}\")\n",
    "        intento = int(entrada)\n",
    "\n",
    "        numIntentos += 1\n",
    "        if(intento > numero1):\n",
    "            print(\"Te has pasado\")\n",
    "        elif(intento < numero1):\n",
    "            print(\"Te quedaste corto\")\n",
    "        elif(intento == numero1):\n",
    "            print(f\"Acertaste! Has necesitado {numIntentos} intentos\")\n",
    "            break\n",
    "    except:\n",
    "        print(\"Error en la entrada\")\n",
    "\n"
   ]
  },
  {
   "attachments": {},
   "cell_type": "markdown",
   "metadata": {},
   "source": [
    "### Ejercicio 6A\n",
    "\n",
    "Escribe una función que calcule el precio de una pizza.\n",
    "\n",
    "Entrada de datos:\n",
    "* Ingredientes + Cantidad del ingrediente (almacenar en listas)\n",
    "* FIN, la cofección de la pizza a finalizado\n",
    "\n",
    "Salida de datos:\n",
    "* Coste de las pizza desglosado"
   ]
  },
  {
   "cell_type": "code",
   "execution_count": null,
   "metadata": {},
   "outputs": [],
   "source": [
    "# Ejercicio 6A\n",
    "\n",
    "ingredientes = { \"Base\": 8.90, \"Pepperoni\": 0.50, \"Pollo\": 0.35, \"Carne\": 0.35, \"Pimiento\": 0.25, \"Cebolla\": 0.25, \"Champiñon\": 0.25, \"Aceituna\": 0.50, \"Piña\": 0.35, \"ExtraQueso\": 1 }\n",
    "\n",
    "def Pizza():\n",
    "    pizza = [\n",
    "        [\"base\", 8.90, 1]\n",
    "    ]\n",
    "\n",
    "    while(True):\n",
    "        print(\"\\n¿Qué pizza quieres comer?\")\n",
    "        for ii in ingredientes:\n",
    "            print(ii)\n",
    "        \n",
    "        try:\n",
    "            añade_ingrediente = input(\"Añade un ingrediente: \")\n",
    "            if(not añade_ingrediente in ingredientes):\n",
    "                raise Exception(\"Ingrediente no disponible, intente con otro\")\n",
    " \n",
    "            cantidad = input(\"Añade cantidad :\")\n",
    "            if(not cantidad.isdigit() ):\n",
    "                raise Exception(\"Cantidad debe de ser un número entero\")\n",
    "\n",
    "            stop = [\"FIN\", \"1\", \"TRUE\", \"SI\", \"S\", \"Y\"]\n",
    "            ## Añadie ingredientes:\n",
    "            pizza.append([añade_ingrediente, ingredientes[añade_ingrediente], int(cantidad)])\n",
    "\n",
    "            detener = input(\"¿Parar de confeccionar pizza? (si/NO) :\").capitalize()\n",
    "            if(detener in stop):\n",
    "                break\n",
    "\n",
    "        except Exception as err:\n",
    "            print(err)\n",
    "        \n",
    "        \n",
    "    ## Calcular valor de la pizza\n",
    "    print(pizza)\n",
    "\n",
    "    valor = []\n",
    "    for ii in pizza:\n",
    "        valor.append(ii[1] * ii[2])\n",
    "\n",
    "    return sum(valor)\n",
    "\n",
    "\n",
    "# _____ MAIN _____\n",
    "print(\"~~~ Bienvendo a la Pizzeria ~~~\\n\")\n",
    "valor_pizza = Pizza()\n",
    "\n",
    "print(f\"La pizza vale {valor_pizza}\")\n",
    "\n",
    "\n"
   ]
  },
  {
   "attachments": {},
   "cell_type": "markdown",
   "metadata": {},
   "source": [
    "### Ejercicio 7A\n",
    "\n",
    "Escribe una función que calcule el interés de una inversion.\n",
    "\n",
    "\n",
    "Entrada de datos:\n",
    "* Importe total\n",
    "* Interés anual\n",
    "\n",
    "Salida de datos:\n",
    "* Importe invertido + beneficios a un día, un mes, un trimestre, un semestre y un año"
   ]
  },
  {
   "cell_type": "code",
   "execution_count": null,
   "metadata": {},
   "outputs": [],
   "source": [
    "# Ejercicio 7A\n",
    "\n",
    "importe_total = input()\n",
    "\n",
    "interes_anual = input()\n",
    "\n",
    "try:\n",
    "    pass\n",
    "except:\n",
    "    pass"
   ]
  },
  {
   "attachments": {},
   "cell_type": "markdown",
   "metadata": {},
   "source": [
    "### Ejercicio 8A\n",
    "\n",
    "Escribe una función que indique los aciertos de una combinación de loteria primitiva.\n",
    "Una vez introducidos los datos se genera la combinación ganadora utilizando siguiente código:\n",
    "\n",
    "    import random\n",
    "    n = random.randint(1, 49)\n",
    "\n",
    "La combinación ganadora se compone de 6 números no iguales.\n",
    "\n",
    "Entrada de datos:\n",
    "* Introduce 6 número distintos entre 1 y 49\n",
    "\n",
    "Salida de datos:\n",
    "* Número de aciertos"
   ]
  },
  {
   "cell_type": "code",
   "execution_count": null,
   "metadata": {},
   "outputs": [],
   "source": [
    "# EJERCICIO 8A"
   ]
  },
  {
   "attachments": {},
   "cell_type": "markdown",
   "metadata": {},
   "source": [
    "### Ejercicio 9A\n",
    "\n",
    "Escribe un programa que muestre el nombre del día de la semana del cumpleaños del usuario desde su nacimiento hasta hoy.\n",
    "\n",
    "Entrada de datos:\n",
    "* Fecha de nacimiento\n",
    "\n",
    "Salida de datos:\n",
    "* Nombre del día de la semana de cada año"
   ]
  },
  {
   "cell_type": "code",
   "execution_count": null,
   "metadata": {},
   "outputs": [],
   "source": [
    "# EJERCICIO 9A"
   ]
  },
  {
   "attachments": {},
   "cell_type": "markdown",
   "metadata": {},
   "source": [
    "### Ejercicio 10A\n",
    "\n",
    "Escribe una función que pinte por pantalla un triangulo, cuadrado o circulo. Utiliza como máximo 10 sentencias print.\n",
    "\n",
    "Entrada de datos:\n",
    "* tipo de figura\n",
    "\n",
    "Salida de datos:\n",
    "* figura impresa"
   ]
  },
  {
   "cell_type": "code",
   "execution_count": null,
   "metadata": {},
   "outputs": [],
   "source": [
    "# EJERCICIO 10A"
   ]
  }
 ],
 "metadata": {
  "kernelspec": {
   "display_name": "Python 3",
   "language": "python",
   "name": "python3"
  },
  "language_info": {
   "codemirror_mode": {
    "name": "ipython",
    "version": 3
   },
   "file_extension": ".py",
   "mimetype": "text/x-python",
   "name": "python",
   "nbconvert_exporter": "python",
   "pygments_lexer": "ipython3",
   "version": "3.10.6"
  },
  "orig_nbformat": 4,
  "vscode": {
   "interpreter": {
    "hash": "916dbcbb3f70747c44a77c7bcd40155683ae19c65e1c03b4aa3499c5328201f1"
   }
  }
 },
 "nbformat": 4,
 "nbformat_minor": 2
}
