{
 "cells": [
  {
   "attachments": {},
   "cell_type": "markdown",
   "metadata": {},
   "source": [
    "# CONCEPTOS BASICOS DE PROGRAMACION PYTHON\n",
    "\n",
    "## TIPOS DE DATOS\n",
    "------------\n",
    "\n",
    "Python divide los datos en tipos que pueden ser:\n",
    "\n",
    "1. Numeros (enteros, decimales y complejos)\n",
    "2. Booleanos (True, False, 0, 1)\n",
    "3. Texto (String)\n",
    "4. Colecciones (tuplas, listas, diccionarios, conjuntos)\n",
    "5. Objetos\n",
    "\n",
    "## DECLARACION DE VARIABLES\n",
    "------------\n",
    "\n",
    "Para declarar una variable un python, solamente se necesita darle un nombre (referencia) y asignarla. Python no es un lenguaje de tipado dinámico. No es necesario declarar los tipos de los valores que se introducen, estos se asignan al durante el tiempo de ejecución y depende del tipo de dato que se introduzca.\n",
    "\n",
    "\\<Nombre\\> = \\<Valor\\>\n",
    "\n",
    "Ejemplo de declaración de variables (necesario para los ejemplos siguientes):"
   ]
  },
  {
   "cell_type": "code",
   "execution_count": null,
   "metadata": {},
   "outputs": [],
   "source": [
    "# Declaración de variables\n",
    "numero = 10\n",
    "Numero = 20\n",
    "saludo = \"Hola mundo !!!\""
   ]
  },
  {
   "attachments": {},
   "cell_type": "markdown",
   "metadata": {},
   "source": [
    "Python es sensible a mayúsculas y minúsculas como se muestra en el ejemplo. Python no permite que las variables empiezen en número. Pueden empezar con guión bajo o letra. (_variable, o variable)\n",
    "\n",
    "Para comprobar si funciona, podemos utilizar las funciones nativas de Python para mostrar la información en la consola. Las funciones nativas que vamos a usar son:\n",
    "\n",
    "* **print()** : permite pintar el valor de la variable en la consola como texto\n",
    "* **type()**  : muestra el tipo de variable que esta en la variable\n",
    "\n",
    "Nota que para mostrar el resultado de **type()** en la consola necesitamos de **print()** también."
   ]
  },
  {
   "cell_type": "code",
   "execution_count": null,
   "metadata": {},
   "outputs": [],
   "source": [
    "# Ejecuta primero la declaración de variables\n",
    "\n",
    "# Mostramos el contenido de las variables\n",
    "print(numero) # 10\n",
    "print(Numero) # 20\n",
    "print(Numero - 25)\n",
    "print(saludo) # 'Hola mundo !!!'\n",
    "print(\"Andrés dice : \"+saludo)"
   ]
  },
  {
   "cell_type": "code",
   "execution_count": null,
   "metadata": {},
   "outputs": [],
   "source": [
    "# Ejecuta primero la declaración de variables\n",
    "\n",
    "#Mostramos el tipo de las variables\n",
    "print(type(numero))\n",
    "print(type(saludo))\n",
    "print(type(None))"
   ]
  },
  {
   "cell_type": "code",
   "execution_count": null,
   "metadata": {},
   "outputs": [],
   "source": [
    "#Mostrar todos los tipos de datos\n",
    "print(type(3))\n",
    "print(type(3.1))\n",
    "print(type(3.1+4j))\n",
    "print(type(\"3\"))\n",
    "print(type(\"tres\"))\n",
    "print(type(3==3))\n",
    "print(type(('1', '2', '3')))\n",
    "print(type([\"1\", \"2\", \"3\"]))\n",
    "print(type({\"1\", \"2\", \"3\"}))\n",
    "print(type({\"valor1\" : 2,\n",
    "            \"segundo\": 3}))"
   ]
  },
  {
   "attachments": {},
   "cell_type": "markdown",
   "metadata": {},
   "source": [
    "### ASIGNACION SIMULTANEA DE VARIABLES\n",
    "\n",
    "Una funcionalidad que nos permite Python es declarar varias variables simultaneamente. En el siguiente ejemplo, vamos a asignar dos variables y intercambiar sus valores en un solo paso. Este tipo de asignación es útil para intercambiar valores sin necesidad de utilizar variables temporales."
   ]
  },
  {
   "cell_type": "code",
   "execution_count": null,
   "metadata": {},
   "outputs": [],
   "source": [
    "a = 5\n",
    "b = 10\n",
    "\n",
    "# intercambiar los valores de las variables\n",
    "a, b = b, a \n",
    "\n",
    "print(\"Asignación simultanea de a y b:\")\n",
    "print(a)\n",
    "print(b)"
   ]
  },
  {
   "attachments": {},
   "cell_type": "markdown",
   "metadata": {},
   "source": [
    "### CONVERSION DE DATOS\n",
    "\n",
    "Python incorpora una serie de funciones que nos permite cambiar el tipo de variable con una simple llamada de una función. Esas funciones son:\n",
    "\n",
    "* str()     : transforma una variable en texto\n",
    "* int()     : transforma un número en un número entero\n",
    "* float()   : transforma una variable en un número decimal"
   ]
  },
  {
   "cell_type": "code",
   "execution_count": null,
   "metadata": {},
   "outputs": [],
   "source": [
    "a = 5\n",
    "b = \"25\"\n",
    "c = \"25.7\"\n",
    "\n",
    "print(\"Numero : \"+str(a))\n",
    "print(type(b))\n",
    "print(type(int(b)))\n",
    "print(type(float(c)))\n",
    "print(str(int(float(c))))"
   ]
  },
  {
   "attachments": {},
   "cell_type": "markdown",
   "metadata": {},
   "source": [
    "### CADENA DE CARACTERES\n",
    "\n",
    "Uno de los datos que hemos manejado es el dato STRING o, cadenas de caracteres. Aquí vamos a aprender como operar con cadenas de caracteres. Empecemos declarando una cadena:"
   ]
  },
  {
   "cell_type": "code",
   "execution_count": null,
   "metadata": {},
   "outputs": [],
   "source": [
    "# Edita la cadena a tu gusto:\n",
    "cadena = \"    hoLa muNDo !!!\""
   ]
  },
  {
   "cell_type": "code",
   "execution_count": null,
   "metadata": {},
   "outputs": [],
   "source": [
    "# Operaciones con cadenas\n",
    "print(cadena)\n",
    "print(cadena[2])\n",
    "print(cadena[2:])\n",
    "print(cadena[:6])\n",
    "print(cadena[2:6])\n",
    "print(cadena[-2])\n",
    "print(len(cadena))\n"
   ]
  },
  {
   "attachments": {},
   "cell_type": "markdown",
   "metadata": {},
   "source": [
    "Las cadenas son un objeto tipo string y, por tanto, tienen funciones propias heredadas de la clase string. Aquí mostramos el resultado de dichas funciones."
   ]
  },
  {
   "cell_type": "code",
   "execution_count": null,
   "metadata": {},
   "outputs": [],
   "source": [
    "# Funciones de la clase String\n",
    "print(cadena.lower())\n",
    "print(cadena.upper())\n",
    "print(cadena.capitalize())\n",
    "print(cadena.strip())\n",
    "print(cadena.replace('o', '0'))\n",
    "print(cadena.isdigit())\n",
    "print(\"57\".isdigit())\n",
    "print(cadena.count('o'))"
   ]
  },
  {
   "attachments": {},
   "cell_type": "markdown",
   "metadata": {},
   "source": [
    "### FORMATO DE TEXTO\n",
    "\n",
    "En muchas situaciones necesitaremos formatear un text. Por ejemplo, eliminar ciertas cifras decimales o poner una variable dentro de otra cadena. Para eso utilizaremos las técnicas de formateo."
   ]
  },
  {
   "cell_type": "code",
   "execution_count": null,
   "metadata": {},
   "outputs": [],
   "source": [
    "# Dandole formato a una cadena de caracteres\n",
    "mensaje = input()\n",
    "if (mensaje == '') : mensaje = \"mundo\"\n",
    "\n",
    "print(\"Hola \"+mensaje+\" !!!\") # forma mala\n",
    "print(\"Hola {} !!!\".format(mensaje)) # más adecuado\n",
    "print(\"Hola {s} !!!\".format(s=mensaje))\n",
    "print(\"Hola {mensaje} !!!\")  # no funcionaría\n",
    "print(f\"Hola {mensaje} !!!\") # la mejor, como en javascript\n",
    "\n",
    "resultado = \"Hola {s} !!!\".format(s=mensaje)\n",
    "\n",
    "print()\n",
    "# Dandole formato a números\n",
    "numero = 10 / 3\n",
    "print(\"Numero : {n}\".format(n=numero))\n",
    "print(\"Numero : {n:1.2f}\".format(n=numero)) # dos digitos para la parte decimal"
   ]
  },
  {
   "attachments": {},
   "cell_type": "markdown",
   "metadata": {},
   "source": [
    "## MANEJO DE FECHAS\n",
    "------------\n",
    "\n",
    "Python necesita importar un modulo llamado **datetime** para manejar las fechas. Para importar un módulo utilizamos el comando\n",
    "\n",
    "```\n",
    "from datetime import datetime\n",
    "```\n",
    "\n",
    "* Construimos el objeto de fecha con el valor actual utilizando **datetime.now()**.\n",
    "* Utilizando **.date()** obtenemos la fecha, y no la hora.\n",
    "* Podemos obtener el día, mes y año utilizando **.day**, **.mouth**, **.year**.\n",
    "* Lo mismo para las horas con **.hour**, **.minute**, **.second**."
   ]
  },
  {
   "cell_type": "code",
   "execution_count": null,
   "metadata": {},
   "outputs": [],
   "source": [
    "#!/usr/bin/python3\n",
    "\n",
    "from datetime import datetime as DT\n",
    "\n",
    "# crea el objeto y le da el valor actual de la fecha\n",
    "dt1 = DT.now()\n",
    "\n",
    "print(\"Fecha actual:\\n\")\n",
    "\n",
    "print(f\"Fecha 1 completa : {dt1}\")          # devuelve la fecha con la hora\n",
    "print(f\"Fecha 1          : {dt1.date()}\")   # solo devuelve la fechas sin la hora\n",
    "print(\"\")\n",
    "print(\"Día:\", str(dt1.day).zfill(2))\n",
    "print(\"Mes:\", str(dt1.month).zfill(2))\n",
    "print(\"Año:\", dt1.year)\n",
    "print(f\"Hora: {dt1.hour:2}:{str(dt1.minute).zfill(2)}:{str(dt1.second).zfill(2)}\")"
   ]
  },
  {
   "attachments": {},
   "cell_type": "markdown",
   "metadata": {},
   "source": [
    "### PARSE UN STRING A FECHA Y FORMATO\n",
    "\n",
    "Utilizando la funcion **.strptime(\\<date\\>, \\<format\\>)** puedes convertir una cadena en texto, pero es importante indicarle como es el formato de entrada. Aquí hay un ejemplo donde se utiliza un formato de mes-día-año:"
   ]
  },
  {
   "cell_type": "code",
   "execution_count": null,
   "metadata": {},
   "outputs": [],
   "source": [
    "#!/usr/bin/python3\n",
    "\n",
    "from datetime import datetime as DT\n",
    "\n",
    "# Transformar un string a una fecha:\n",
    "# string parse to date\n",
    "\n",
    "fecha = \"09-03-1993\"\n",
    "dt2 = DT.strptime(fecha, \"%m-%d-%Y\")\n",
    "\n",
    "print(f\"\\nFecha nacimiento: {dt2.date()}\")\n",
    "\n",
    "#Formatear la fecha:\n",
    "print(\"Fecha de nacimiento:\", dt2.date().strftime(\"%A, %d de %B de %Y\"))"
   ]
  },
  {
   "attachments": {},
   "cell_type": "markdown",
   "metadata": {},
   "source": [
    "#### EJERCICIO CON FECHAS\n",
    "\n",
    "Obten la edad del individuo usando las dos fechas. (Ejecuta todo el código para que funcione)"
   ]
  },
  {
   "cell_type": "code",
   "execution_count": null,
   "metadata": {},
   "outputs": [],
   "source": [
    "####### EJERCICIO ########\n",
    "# Pinta la edad del individuo\n",
    "años = dt1 - dt2\n",
    "\n",
    "print(f\"Tienes {años.days/365:2.0f} años\") # redondea, 29.5+ -> 30"
   ]
  },
  {
   "attachments": {},
   "cell_type": "markdown",
   "metadata": {},
   "source": [
    "### ZONAS HORARIAS\n",
    "\n",
    "Necesitamos importar un módulo llamado **pytz** empleando el comando:\n",
    "\n",
    "```\n",
    "pip install pytz\n",
    "```\n",
    "\n",
    "Cuando invocamos **datetime.now()** ahora incluiremos el valor de la zona horaria de **pytz.timezone(\\<zona horaria\\>)**"
   ]
  },
  {
   "cell_type": "code",
   "execution_count": null,
   "metadata": {},
   "outputs": [],
   "source": [
    "from datetime import datetime, timedelta\n",
    "from pytz import timezone\n",
    "import pytz\n",
    "\n",
    "# Mostrar las zonas horarias disponibles\n",
    "# print(pytz.all_timezones)\n",
    "print()\n",
    "\n",
    "# Mostrar la fecha actual\n",
    "dt = datetime.now()\n",
    "print(dt)\n",
    "print(datetime.now(pytz.timezone(\"Asia/Tokyo\")))\n",
    "print(datetime.now(pytz.timezone(\"Europe/Madrid\")))\n",
    "print(datetime.now(pytz.timezone(\"US/Alaska\")))\n",
    "print(datetime.now(pytz.timezone(\"UTC\")))"
   ]
  },
  {
   "attachments": {},
   "cell_type": "markdown",
   "metadata": {},
   "source": [
    "## SENTENCIAS DE CONTROL\n",
    "------------\n",
    "\n",
    "### IF/ELIF/ELSE:\n",
    "\n",
    "1. **if** determina la condición y el bloque de sentencias que cumple la condición.\n",
    "2. **else** marca el bloque de sentencias cuando no se cumple la condición.\n",
    "3. **elif** es el conjunto de else if, y determina otra condición y el bloque de sentencias cuando la anterior sentencia no se cumple.\n",
    "\n",
    "En python, el bloque se define con la identación, y la condición va entre parentesis.\n",
    "\n",
    "```\n",
    "if (<condicion>):\n",
    "    <sentencias>\n",
    "elif (<condicion>):\n",
    "    <sentencias>\n",
    "else :\n",
    "    <sentencias>\n",
    "```"
   ]
  },
  {
   "cell_type": "code",
   "execution_count": null,
   "metadata": {},
   "outputs": [],
   "source": [
    "a = 10\n",
    "b = 20\n",
    "\n",
    "if (a > b):\n",
    "    print(f\"El número mayor es a = {a}\")\n",
    "elif (a < b):\n",
    "    print(f\"El número mayor es b = {b}\")\n",
    "else :\n",
    "    print(\"Ambos son iguales\")\n",
    "\n",
    "print(\"FIN\")"
   ]
  },
  {
   "attachments": {},
   "cell_type": "markdown",
   "metadata": {},
   "source": [
    "## SENTENCIAS DE REPETICION\n",
    "------------\n",
    "\n",
    "### FOR\n",
    "\n",
    "La sentencia **for** ejecuta el bloque de código de forma repetida. Se utiliza para trabajar con colecciones. Para crear una colección, podríamos utilizar la función **range(\\<inicio\\>, \\<fin\\>, \\<paso\\>)**. Luego recorremos esa colección usando for.\n",
    "\n",
    "En el siguiente ejemplo tenemos: i) un contador que llega hasta 100; ii) una lista de cítricos que recorremos directamente; iii) otro **for** que recorre la lista usando la posición de los valores."
   ]
  },
  {
   "cell_type": "code",
   "execution_count": null,
   "metadata": {},
   "outputs": [],
   "source": [
    "# Contador a 100\n",
    "for i in range(0, 100, 1):\n",
    "    print(f\"Número {i}\")"
   ]
  },
  {
   "cell_type": "code",
   "execution_count": null,
   "metadata": {},
   "outputs": [],
   "source": [
    "# Lista de citricos\n",
    "citricos = [\"limon\", \"naranja\", \"pomelo\", \"lima\" ]\n",
    "print()\n",
    "print(citricos)\n",
    "print(citricos[0]) # primer valor en la lista\n",
    "print(f\"Numero de valores en la coleccion citricos {len(citricos)}\")\n",
    "print()\n",
    "\n",
    "print(\"\\nRecorriendo la coleccion usando in: \\n\")\n",
    "for fruta in citricos:\n",
    "    print(f\"{fruta}\")\n",
    "\n",
    "print(\"\\nUsando range: \\n\")\n",
    "for i in range(0, len(citricos), 1):\n",
    "    print(f\"{i} : {citricos[i]}\")\n",
    "\n",
    "# range() toma por defecto : inicio = 0, paso = 1\n",
    "# range(8) => [0, 1, 2, 3, 4, 5, 6, 7]"
   ]
  },
  {
   "attachments": {},
   "cell_type": "markdown",
   "metadata": {},
   "source": [
    "Siempre que trabajemos con sentencias de repetición tenemos dos palabras clave que son:\n",
    "\n",
    "1. **continue** : Saltaría la sentencia hasta el siguiente bucle.\n",
    "2. **break** : Termina el bloque de repetición."
   ]
  },
  {
   "attachments": {},
   "cell_type": "markdown",
   "metadata": {},
   "source": [
    "### WHILE\n",
    "\n",
    "**WHILE** es una sentencia de repetición que se repite mientras una condición se cumpla. Es como un **if** que fuerza al final la repetición del mismo bloque **if**. Cuando la condición no se cumpla, el código continuaría en la siguiente línea después del bloque."
   ]
  },
  {
   "cell_type": "code",
   "execution_count": null,
   "metadata": {},
   "outputs": [],
   "source": [
    "# Contador\n",
    "valor = 0\n",
    "\n",
    "while ( valor < 5 ) :\n",
    "    print(f\"El valor es {valor}\")\n",
    "    if(valor  == 3):\n",
    "        break\n",
    "    valor += 1\n",
    "\n",
    "print(\"Fin del WHILE\")"
   ]
  },
  {
   "attachments": {},
   "cell_type": "markdown",
   "metadata": {},
   "source": [
    "Replicando lo que se hizo anteriormente con la sentencia **for**, la sentencia **while** puede hacer lo mismo con la necesidad de crear un contador que incremente su valor durante su ejecución. Aquí mostramos dos ejemplos que realizan lo mismo.\n",
    "\n",
    "1.  El primer ejemplo utiliza simplemente la condición que el contador debe ser menor al valor máximo de elementos en la lista para realizar la enumeración."
   ]
  },
  {
   "cell_type": "code",
   "execution_count": null,
   "metadata": {},
   "outputs": [],
   "source": [
    "# WHILE con listas\n",
    "citricos = [\"limon\", \"naranja\", \"pomelo\", \"lima\", \"mandarina\"]\n",
    "\n",
    "ii = 0\n",
    "\n",
    "while(ii < len(citricos)):\n",
    "    print(f\"{ii}: {citricos[ii]}\")\n",
    "    ii +=1\n",
    "\n",
    "print(\"Fin del WHILE\")"
   ]
  },
  {
   "attachments": {},
   "cell_type": "markdown",
   "metadata": {},
   "source": [
    "2. En este ejemplo se ha intentado emular el funcionamiento de **DO WHILE** que está presente en otros lenguajes de programación. La condición de **WHILE** está siempre activada como verdadera, y la condición se evalua dentro. En este caso, la condición esta negada, indicando que cuando no se cumpla la condición es cuando es necesario romper el bloque de repetición."
   ]
  },
  {
   "cell_type": "code",
   "execution_count": null,
   "metadata": {},
   "outputs": [],
   "source": [
    "# DO WHILE EMULADO\n",
    "citricos = [\"limon\", \"naranja\", \"pomelo\", \"lima\", \"mandarina\"]\n",
    "\n",
    "ii = 0\n",
    "\n",
    "while True:\n",
    "    print(f\"{ii}: {citricos[ii]}\")\n",
    "    ii +=1\n",
    "    if (not ii < len(citricos)):\n",
    "        break\n",
    "\n",
    "print(\"Fin del DO WHILE\\n\")"
   ]
  },
  {
   "attachments": {},
   "cell_type": "markdown",
   "metadata": {},
   "source": [
    "### TRY/EXCEPT/FINALLY\n",
    "\n",
    "Cuando hay una operación que puede dar error y se quiera manejar ese error se necesita de **try**/**except**/**finally**."
   ]
  },
  {
   "cell_type": "code",
   "execution_count": null,
   "metadata": {},
   "outputs": [],
   "source": [
    "# Error division por cero\n",
    "\n",
    "num1 = 0\n",
    "num2 = 100\n",
    "\n",
    "print(\"Inicio\")\n",
    "\n",
    "try:\n",
    "    num3 = num2 / num1\n",
    "    print(f\"Resultado : {num3}\")\n",
    "except ZeroDivisionError as err:\n",
    "    print(\"Has intentado dividir por cero\")\n",
    "    print(err)\n",
    "except:\n",
    "    print(\"Algo salio mal\")\n",
    "else:\n",
    "    print(\"Bloque ELSE\")\n",
    "finally:\n",
    "    print(\"Bloque finally\")\n",
    "\n",
    "print(\"Fin\\n\")"
   ]
  },
  {
   "cell_type": "code",
   "execution_count": null,
   "metadata": {},
   "outputs": [],
   "source": [
    "# Error de sistema\n",
    "\n",
    "try:\n",
    "    f = open('noexiste.txt') # error FileNotFoundError\n",
    "except FileNotFoundError as err:\n",
    "    print(\"Has intentado abrir un archivo que no existe\")\n",
    "    print(err)\n",
    "except:\n",
    "    print(\"Algo salio mal\")\n",
    "else:\n",
    "    print(\"Bloque ELSE\")\n",
    "finally:\n",
    "    print(\"Bloque finally\")"
   ]
  },
  {
   "cell_type": "code",
   "execution_count": null,
   "metadata": {},
   "outputs": [],
   "source": [
    "# Error propio\n",
    "\n",
    "try:\n",
    "    raise Exception(\"Error fantabuloso\")\n",
    "except Exception as err:\n",
    "    print(err)\n",
    "else:\n",
    "    print(\"Bloque ELSE\")\n",
    "finally:\n",
    "    print(\"Bloque finally\")"
   ]
  },
  {
   "attachments": {},
   "cell_type": "markdown",
   "metadata": {},
   "source": [
    "## COLECCIONES\n",
    "-------------------------------------\n",
    "\n",
    "### LISTAS\n",
    "\n",
    "Las listas son colecciones de elemento encapsulados en [ ] y separados por comas.\n",
    "\n",
    "```\n",
    "[elemento1, elemento2, elemento3, elemento4]\n",
    "```\n",
    "\n",
    "Las listas no son inmutables. Se pueden añadir, eliminar, juntar listas.\n",
    "\n",
    "1. **.append(\"elemento nuevo\")**        : añade elemento al final de la lista\n",
    "1. **.insert(index, \"elemento nuevo\")** : añade elemento en esa posición\n",
    "1. **.remove(\"elemento2\")**             : busca y elimina ese elemento\n",
    "1. **.pop(index)**                      : elimina el elemento en la posición indicada\n",
    "1. **.extend(lista2)**                  : Une dos listas"
   ]
  },
  {
   "cell_type": "code",
   "execution_count": null,
   "metadata": {},
   "outputs": [],
   "source": [
    "# usamos los [] para crear listas\n",
    "vacia = []\n",
    "frutas = [\"naranja\", \"limón\", \"pomelo\", \"lima\", \"mandarina\"]\n",
    "\n",
    "print(\"Mostrar cosas en listas\")\n",
    "# mostrar el contenido de una lista\n",
    "print(frutas)\n",
    "\n",
    "# mostrar el valor contenido en una posición\n",
    "print(frutas[2])\n",
    "\n",
    "# mostrar el numero de elementos que contiene la lista\n",
    "print(len(frutas))\n",
    "\n",
    "# mostrar el numero de veces que tenemos un valor\n",
    "print(frutas.count(\"sandia\"))\n",
    "\n",
    "print(\"\\nModificar listas\")\n",
    "# modificar el valor en una posicion\n",
    "frutas[2] = \"fresa\"\n",
    "print(f\"Donde teníamos pomelo ahora tenemos : {frutas[2]}\")\n",
    "\n",
    "# añadir nuevos valores a lista utilizando .append()\n",
    "frutas.append(\"manzana\")\n",
    "frutas.append(\"melón\")\n",
    "print(frutas)\n",
    "\n",
    "# añadir si el valor no existe\n",
    "if(\"platano\" not in frutas):\n",
    "    frutas.append(\"platano\")\n",
    "    print(frutas)\n",
    "\n",
    "# añadir varios valores procedentes de otra lista\n",
    "nuevasFrutas = [\"maracuya\", \"kiwi\", \"frambuesa\"]\n",
    "frutas.extend(nuevasFrutas)\n",
    "print(frutas)\n",
    "\n",
    "# insertar una fruta en una posición concreta\n",
    "frutas.insert(1, \"sandia\")\n",
    "print(frutas)\n",
    "\n",
    "print()\n",
    "print(\"Eliminar elementos en la lista\")\n",
    "# eliminar un valor en base a la posición en base a .pop(index)\n",
    "frutas.pop(5)\n",
    "print(frutas)\n",
    "\n",
    "# eliminas un valor en base a .remove(valor)\n",
    "frutas.remove(\"naranja\")\n",
    "print(frutas)\n",
    "\n",
    "# eliminar un valor si existe\n",
    "if(\"sandia\" in frutas):\n",
    "    frutas.remove(\"sandia\")\n",
    "    print(frutas)\n",
    "\n",
    "print()\n",
    "print(\"Invertir el orden de la lista\")\n",
    "# invertir el orden de los valores\n",
    "frutas.reverse()\n",
    "print(frutas)\n",
    "\n",
    "print()\n",
    "print(\"Ordenar los valores de la lista\")\n",
    "# ordenar los valores con sort\n",
    "frutas.sort()\n",
    "frutas.sort(reverse = True) # ordenar y invertirlo\n",
    "\n",
    "# recorrer la lista \n",
    "for fruta in frutas:\n",
    "    print(fruta)\n",
    "\n",
    "# copiar todos los valores de la lista \n",
    "vacia = frutas.copy()\n",
    "\n",
    "# eliminar todos los valores de la lista\n",
    "frutas.clear()\n",
    "print(f\"Todos los valores eliminados : {frutas}\")"
   ]
  },
  {
   "attachments": {},
   "cell_type": "markdown",
   "metadata": {},
   "source": [
    "### TUPLA\n",
    "\n",
    "Una tupla es una colección de elementos en base cero INMUTABLE definida dentro de ( ) y separado por una coma.\n",
    "\n",
    "```\n",
    "(elemento1, elemento2, elemento3, elemento4, elemento5)\n",
    "```\n",
    "\n",
    "Si se quiere operar con tuplas, es necesario convertirlo a lista primero con la función **list()**.\n",
    "\n",
    "\n",
    "|operador | descripcion|\n",
    "----------|------------\n",
    "|sum()    | suma todos los valores de la lista|\n",
    "|min()    | encuentra el valor mínimo en la lista|\n",
    "|max()    | encuentra el valor máximo en la lista|\n",
    "\n"
   ]
  },
  {
   "attachments": {},
   "cell_type": "markdown",
   "metadata": {},
   "source": [
    "### CONJUNTOS\n",
    "\n",
    "Se definen dentro de llaves { } y no están ordenados, i.e. no tienen índice.\n",
    "\n",
    "```\n",
    "{elemento1, elemento2, elemento3}\n",
    "```\n",
    "\n",
    "1. **.add(\"elemento nuevo\")**       : añade un elemento nuevo al conjunto\n",
    "1. **.discard(\"elemento viejo\")**   : elimina un elemento del conjunto\n",
    "\n"
   ]
  },
  {
   "attachments": {},
   "cell_type": "markdown",
   "metadata": {},
   "source": [
    "### DICCIONARIO\n",
    "\n",
    "Se definen dentro de llaves { } y van definidos en un par de clave : valor.\n",
    "\n",
    "```\n",
    "{ \"red\": \"rojo\", \"blue\": \"azul\", \"black\": \"negro\"}\n",
    "```\n",
    "\n",
    "1. **dicc[\"red\"]**     : Para buscar un elemento se llama a la llave\n",
    "1. **dicc[\"green\"] = \"verde\"** : añade verde al diccionario\n",
    "1. **dicc.pop(\"blue\")** : elimina la llave valor\n",
    "1. **dicc.get(\"orange\", \"\")** : buscaría la llave orange, o \"\" en caso de que no exista\n",
    "1. **dicc.update(dicc2)** : permite actualizar un diccionario dandole otro como argumento "
   ]
  },
  {
   "cell_type": "code",
   "execution_count": null,
   "metadata": {},
   "outputs": [],
   "source": [
    "vacio = {}\n",
    "frutas = {\n",
    "          \"NA\": \"naranja\",\n",
    "          \"LI\": \"limón\", \n",
    "          \"PO\": \"pomelo\", \n",
    "          \"LM\": \"lima\", \n",
    "          \"MA\": \"mandarina\",\n",
    "          }\n",
    "\n",
    "# mostrar el diccionario\n",
    "print(frutas)\n",
    "\n",
    "# mostrar un valor utilizando la clave\n",
    "# Si la clave no existe se produce una Exception\n",
    "print(frutas[\"NA\"])\n",
    "\n",
    "\n",
    "# mostrar un valor utilizando la funcion .get()\n",
    "# si el valor no existe, la función retorna None\n",
    "print(frutas.get(\"NA\"))\n",
    "print(frutas.get(\"NI\")) # None\n",
    "\n",
    "# modificar el valor de un elemento\n",
    "frutas[\"NA\"] = \"sandia\"\n",
    "frutas.update({\"NA\": \"ciruela\"})\n",
    "print(frutas[\"NA\"])\n",
    "\n",
    "# insertar un nuevo elemento en el diccionario\n",
    "frutas[\"ME\"] = \"melón\"\n",
    "frutas.update({\"KW\": \"kiwi\"})\n",
    "print(frutas)\n",
    "\n",
    "# pintar el numero de valores del diccionario\n",
    "print(len(frutas))\n",
    "\n",
    "# eliminar un elemento del diccionario\n",
    "frutas.pop(\"NA\")\n",
    "print(frutas)\n",
    "\n",
    "# recorremos y mostramos todos los valores del diccionario\n",
    "for clave in frutas:\n",
    "    print(f\"{clave} : {frutas[clave]}\")"
   ]
  }
 ],
 "metadata": {
  "kernelspec": {
   "display_name": "Python 3",
   "language": "python",
   "name": "python3"
  },
  "language_info": {
   "codemirror_mode": {
    "name": "ipython",
    "version": 3
   },
   "file_extension": ".py",
   "mimetype": "text/x-python",
   "name": "python",
   "nbconvert_exporter": "python",
   "pygments_lexer": "ipython3",
   "version": "3.10.6"
  },
  "orig_nbformat": 4,
  "vscode": {
   "interpreter": {
    "hash": "31f2aee4e71d21fbe5cf8b01ff0e069b9275f58929596ceb00d14d90e3e16cd6"
   }
  }
 },
 "nbformat": 4,
 "nbformat_minor": 2
}
