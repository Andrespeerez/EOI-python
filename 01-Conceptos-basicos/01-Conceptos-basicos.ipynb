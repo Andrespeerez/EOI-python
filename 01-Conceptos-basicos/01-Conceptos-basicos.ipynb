{
 "cells": [
  {
   "attachments": {},
   "cell_type": "markdown",
   "metadata": {},
   "source": [
    "# CONCEPTOS BASICOS DE PROGRAMACION PYTHON\n",
    "\n",
    "## TIPOS DE DATOS\n",
    "\n",
    "Python divide los datos en tipos que pueden ser:\n",
    "\n",
    "1. Numeros (enteros, decimales y complejos)\n",
    "2. Booleanos (True, False, 0, 1)\n",
    "3. Texto (String)\n",
    "4. Colecciones (tuplas, listas, diccionarios, conjuntos)\n",
    "5. Objetos\n",
    "\n",
    "## DECLARACION DE VARIABLES\n",
    "\n",
    "Para declarar una variable un python, solamente se necesita darle un nombre (referencia) y asignarla. Python no es un lenguaje de tipado dinámico. No es necesario declarar los tipos de los valores que se introducen, estos se asignan al durante el tiempo de ejecución y depende del tipo de dato que se introduzca.\n",
    "\n",
    "\\<Nombre\\> = \\<Valor\\>\n",
    "\n",
    "Ejemplo de declaración de variables:"
   ]
  },
  {
   "cell_type": "code",
   "execution_count": 41,
   "metadata": {},
   "outputs": [],
   "source": [
    "# Declaración de variables\n",
    "numero = 10\n",
    "Numero = 20\n",
    "saludo = \"Hola mundo !!!\""
   ]
  },
  {
   "attachments": {},
   "cell_type": "markdown",
   "metadata": {},
   "source": [
    "Python es sensible a mayúsculas y minúsculas como se muestra en el ejemplo. Python no permite que las variables empiezen en número. Pueden empezar con guión bajo o letra. (_variable, o variable)\n",
    "\n",
    "Para comprobar si funciona, podemos utilizar las funciones nativas de Python para mostrar la información en la consola. Las funciones nativas que vamos a usar son:\n",
    "\n",
    "* **print()** : permite pintar el valor de la variable en la consola como texto\n",
    "* **type()**  : muestra el tipo de variable que esta en la variable\n",
    "\n",
    "Nota que para mostrar el resultado de **type()** en la consola necesitamos de **print()** también."
   ]
  },
  {
   "cell_type": "code",
   "execution_count": 42,
   "metadata": {},
   "outputs": [
    {
     "name": "stdout",
     "output_type": "stream",
     "text": [
      "10\n",
      "20\n",
      "-5\n",
      "Hola mundo !!!\n",
      "Andrés dice : Hola mundo !!!\n"
     ]
    }
   ],
   "source": [
    "# Mostramos el contenido de las variables\n",
    "print(numero) # 10\n",
    "print(Numero) # 20\n",
    "print(Numero - 25)\n",
    "print(saludo) # 'Hola mundo !!!'\n",
    "print(\"Andrés dice : \"+saludo)"
   ]
  },
  {
   "cell_type": "code",
   "execution_count": 43,
   "metadata": {},
   "outputs": [
    {
     "name": "stdout",
     "output_type": "stream",
     "text": [
      "<class 'int'>\n",
      "<class 'str'>\n",
      "<class 'NoneType'>\n"
     ]
    }
   ],
   "source": [
    "#Mostramos el tipo de las variables\n",
    "print(type(numero))\n",
    "print(type(saludo))\n",
    "print(type(None))"
   ]
  },
  {
   "cell_type": "code",
   "execution_count": 44,
   "metadata": {},
   "outputs": [
    {
     "name": "stdout",
     "output_type": "stream",
     "text": [
      "<class 'int'>\n",
      "<class 'float'>\n",
      "<class 'complex'>\n",
      "<class 'str'>\n",
      "<class 'str'>\n",
      "<class 'bool'>\n",
      "<class 'tuple'>\n",
      "<class 'list'>\n",
      "<class 'set'>\n",
      "<class 'dict'>\n"
     ]
    }
   ],
   "source": [
    "#Mostrar todos los tipos de datos\n",
    "print(type(3))\n",
    "print(type(3.1))\n",
    "print(type(3.1+4j))\n",
    "print(type(\"3\"))\n",
    "print(type(\"tres\"))\n",
    "print(type(3==3))\n",
    "print(type(('1', '2', '3')))\n",
    "print(type([\"1\", \"2\", \"3\"]))\n",
    "print(type({\"1\", \"2\", \"3\"}))\n",
    "print(type({\"valor1\" : 2,\n",
    "            \"segundo\": 3}))"
   ]
  },
  {
   "attachments": {},
   "cell_type": "markdown",
   "metadata": {},
   "source": [
    "### ASIGNACION SIMULTANEA DE VARIABLES\n",
    "\n",
    "Una funcionalidad que nos permite Python es declarar varias variables simultaneamente. En el siguiente ejemplo, vamos a asignar dos variables y intercambiar sus valores en un solo paso. Este tipo de asignación es útil para intercambiar valores sin necesidad de utilizar variables temporales."
   ]
  },
  {
   "cell_type": "code",
   "execution_count": 45,
   "metadata": {},
   "outputs": [
    {
     "name": "stdout",
     "output_type": "stream",
     "text": [
      "Asignación simultanea de a y b:\n",
      "10\n",
      "5\n"
     ]
    }
   ],
   "source": [
    "a = 5\n",
    "b = 10\n",
    "\n",
    "# intercambiar los valores de las variables\n",
    "a, b = b, a \n",
    "\n",
    "print(\"Asignación simultanea de a y b:\")\n",
    "print(a)\n",
    "print(b)"
   ]
  },
  {
   "attachments": {},
   "cell_type": "markdown",
   "metadata": {},
   "source": [
    "## CONVERSION DE DATOS\n",
    "\n",
    "Python incorpora una serie de funciones que nos permite cambiar el tipo de variable con una simple llamada de una función. Esas funciones son:\n",
    "\n",
    "* str()     : transforma una variable en texto\n",
    "* int()     : transforma un número en un número entero\n",
    "* float()   : transforma una variable en un número decimal"
   ]
  },
  {
   "cell_type": "code",
   "execution_count": 46,
   "metadata": {},
   "outputs": [
    {
     "name": "stdout",
     "output_type": "stream",
     "text": [
      "Numero : 5\n",
      "<class 'str'>\n",
      "<class 'int'>\n",
      "<class 'float'>\n",
      "25\n"
     ]
    }
   ],
   "source": [
    "a = 5\n",
    "b = \"25\"\n",
    "c = \"25.7\"\n",
    "\n",
    "print(\"Numero : \"+str(a))\n",
    "print(type(b))\n",
    "print(type(int(b)))\n",
    "print(type(float(c)))\n",
    "print(str(int(float(c))))"
   ]
  },
  {
   "attachments": {},
   "cell_type": "markdown",
   "metadata": {},
   "source": [
    "## CADENA DE CARACTERES\n",
    "\n",
    "Uno de los datos que hemos manejado es el dato STRING o, cadenas de caracteres. Aquí vamos a aprender como operar con cadenas de caracteres. Empecemos declarando una cadena:"
   ]
  },
  {
   "cell_type": "code",
   "execution_count": 47,
   "metadata": {},
   "outputs": [],
   "source": [
    "# Edita la cadena a tu gusto:\n",
    "cadena = \"    hoLa muNDo !!!\""
   ]
  },
  {
   "cell_type": "code",
   "execution_count": 48,
   "metadata": {},
   "outputs": [
    {
     "name": "stdout",
     "output_type": "stream",
     "text": [
      "    hoLa muNDo !!!\n",
      " \n",
      "  hoLa muNDo !!!\n",
      "    ho\n",
      "  ho\n",
      "!\n",
      "18\n"
     ]
    }
   ],
   "source": [
    "# Operaciones con cadenas\n",
    "print(cadena)\n",
    "print(cadena[2])\n",
    "print(cadena[2:])\n",
    "print(cadena[:6])\n",
    "print(cadena[2:6])\n",
    "print(cadena[-2])\n",
    "print(len(cadena))\n"
   ]
  },
  {
   "attachments": {},
   "cell_type": "markdown",
   "metadata": {},
   "source": [
    "Las cadenas son un objeto tipo string y, por tanto, tienen funciones propias heredadas de la clase string. Aquí mostramos el resultado de dichas funciones."
   ]
  },
  {
   "cell_type": "code",
   "execution_count": 49,
   "metadata": {},
   "outputs": [
    {
     "name": "stdout",
     "output_type": "stream",
     "text": [
      "    hola mundo !!!\n",
      "    HOLA MUNDO !!!\n",
      "    hola mundo !!!\n",
      "hoLa muNDo !!!\n",
      "    h0La muND0 !!!\n",
      "False\n",
      "True\n",
      "2\n"
     ]
    }
   ],
   "source": [
    "# Funciones de la clase String\n",
    "print(cadena.lower())\n",
    "print(cadena.upper())\n",
    "print(cadena.capitalize())\n",
    "print(cadena.strip())\n",
    "print(cadena.replace('o', '0'))\n",
    "print(cadena.isdigit())\n",
    "print(\"57\".isdigit())\n",
    "print(cadena.count('o'))"
   ]
  },
  {
   "attachments": {},
   "cell_type": "markdown",
   "metadata": {},
   "source": [
    "### FORMATO DE TEXTO\n",
    "\n",
    "En muchas situaciones necesitaremos formatear un text. Por ejemplo, eliminar ciertas cifras decimales o poner una variable dentro de otra cadena. Para eso utilizaremos las técnicas de formateo."
   ]
  },
  {
   "cell_type": "code",
   "execution_count": 50,
   "metadata": {},
   "outputs": [
    {
     "name": "stdout",
     "output_type": "stream",
     "text": [
      "Hola mundillo !!!\n",
      "Hola mundillo !!!\n",
      "Hola mundillo !!!\n",
      "Hola {mensaje} !!!\n",
      "Hola mundillo !!!\n",
      "\n",
      "Numero : 3.3333333333333335\n",
      "Numero : 3.33\n"
     ]
    }
   ],
   "source": [
    "# Dandole formato a una cadena de caracteres\n",
    "mensaje = input()\n",
    "if (mensaje == '') : mensaje = \"mundo\"\n",
    "\n",
    "print(\"Hola \"+mensaje+\" !!!\") # forma mala\n",
    "print(\"Hola {} !!!\".format(mensaje)) # más adecuado\n",
    "print(\"Hola {s} !!!\".format(s=mensaje))\n",
    "print(\"Hola {mensaje} !!!\")  # no funcionaría\n",
    "print(f\"Hola {mensaje} !!!\") # la mejor, como en javascript\n",
    "\n",
    "resultado = \"Hola {s} !!!\".format(s=mensaje)\n",
    "\n",
    "print()\n",
    "# Dandole formato a números\n",
    "numero = 10 / 3\n",
    "print(\"Numero : {n}\".format(n=numero))\n",
    "print(\"Numero : {n:1.2f}\".format(n=numero)) # dos digitos para la parte decimal"
   ]
  },
  {
   "attachments": {},
   "cell_type": "markdown",
   "metadata": {},
   "source": [
    "## MANEJO DE FECHAS\n",
    "\n",
    "Python necesita importar un modulo llamado **datetime** para manejar las fechas. Para importar un módulo utilizamos el comando\n",
    "\n",
    "```\n",
    "from datetime import datetime\n",
    "```\n",
    "\n",
    "* Construimos el objeto de fecha con el valor actual utilizando **datetime.now()**.\n",
    "* Utilizando **.date()** obtenemos la fecha, y no la hora.\n",
    "* Podemos obtener el día, mes y año utilizando **.day**, **.mouth**, **.year**.\n",
    "* Lo mismo para las horas con **.hour**, **.minute**, **.second**."
   ]
  },
  {
   "cell_type": "code",
   "execution_count": 51,
   "metadata": {},
   "outputs": [
    {
     "name": "stdout",
     "output_type": "stream",
     "text": [
      "Fecha actual:\n",
      "\n",
      "Fecha 1 completa : 2023-03-01 12:51:11.773150\n",
      "Fecha 1          : 2023-03-01\n",
      "\n",
      "Día: 01\n",
      "Mes: 03\n",
      "Año: 2023\n",
      "Hora: 12:51:11\n"
     ]
    }
   ],
   "source": [
    "#!/usr/bin/python3\n",
    "\n",
    "from datetime import datetime as DT\n",
    "\n",
    "# crea el objeto y le da el valor actual de la fecha\n",
    "dt1 = DT.now()\n",
    "\n",
    "print(\"Fecha actual:\\n\")\n",
    "\n",
    "print(f\"Fecha 1 completa : {dt1}\")          # devuelve la fecha con la hora\n",
    "print(f\"Fecha 1          : {dt1.date()}\")   # solo devuelve la fechas sin la hora\n",
    "print(\"\")\n",
    "print(\"Día:\", str(dt1.day).zfill(2))\n",
    "print(\"Mes:\", str(dt1.month).zfill(2))\n",
    "print(\"Año:\", dt1.year)\n",
    "print(f\"Hora: {dt1.hour:2}:{str(dt1.minute).zfill(2)}:{str(dt1.second).zfill(2)}\")"
   ]
  },
  {
   "attachments": {},
   "cell_type": "markdown",
   "metadata": {},
   "source": [
    "### PARSE UN STRING A FECHA Y FORMATO\n",
    "\n",
    "Utilizando la funcion **.strptime(\\<date\\>, \\<format\\>)** puedes convertir una cadena en texto, pero es importante indicarle como es el formato de entrada. Aquí hay un ejemplo donde se utiliza un formato de mes-día-año:"
   ]
  },
  {
   "cell_type": "code",
   "execution_count": 52,
   "metadata": {},
   "outputs": [
    {
     "name": "stdout",
     "output_type": "stream",
     "text": [
      "\n",
      "Fecha nacimiento: 1993-09-03\n",
      "Fecha de nacimiento: Friday, 03 de September de 1993\n"
     ]
    }
   ],
   "source": [
    "#!/usr/bin/python3\n",
    "\n",
    "from datetime import datetime as DT\n",
    "\n",
    "# Transformar un string a una fecha:\n",
    "# string parse to date\n",
    "\n",
    "fecha = \"09-03-1993\"\n",
    "dt2 = DT.strptime(fecha, \"%m-%d-%Y\")\n",
    "\n",
    "print(f\"\\nFecha nacimiento: {dt2.date()}\")\n",
    "\n",
    "#Formatear la fecha:\n",
    "print(\"Fecha de nacimiento:\", dt2.date().strftime(\"%A, %d de %B de %Y\"))"
   ]
  },
  {
   "attachments": {},
   "cell_type": "markdown",
   "metadata": {},
   "source": [
    "#### EJERCICIO CON FECHAS\n",
    "\n",
    "Obten la edad del individuo usando las dos fechas. (Ejecuta todo el código para que funcione)"
   ]
  },
  {
   "cell_type": "code",
   "execution_count": 53,
   "metadata": {},
   "outputs": [
    {
     "name": "stdout",
     "output_type": "stream",
     "text": [
      "Tienes 30 años\n"
     ]
    }
   ],
   "source": [
    "####### EJERCICIO ########\n",
    "# Pinta la edad del individuo\n",
    "años = dt1 - dt2\n",
    "\n",
    "print(f\"Tienes {años.days/365:2.0f} años\") # redondea, 29.5+ -> 30"
   ]
  }
 ],
 "metadata": {
  "kernelspec": {
   "display_name": "Python 3",
   "language": "python",
   "name": "python3"
  },
  "language_info": {
   "codemirror_mode": {
    "name": "ipython",
    "version": 3
   },
   "file_extension": ".py",
   "mimetype": "text/x-python",
   "name": "python",
   "nbconvert_exporter": "python",
   "pygments_lexer": "ipython3",
   "version": "3.10.6"
  },
  "orig_nbformat": 4,
  "vscode": {
   "interpreter": {
    "hash": "916dbcbb3f70747c44a77c7bcd40155683ae19c65e1c03b4aa3499c5328201f1"
   }
  }
 },
 "nbformat": 4,
 "nbformat_minor": 2
}
