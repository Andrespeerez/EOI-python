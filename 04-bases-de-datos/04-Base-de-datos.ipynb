{
 "cells": [
  {
   "attachments": {},
   "cell_type": "markdown",
   "metadata": {},
   "source": [
    "# BASE DE DATOS\n",
    "-------------------------------------------\n",
    "\n",
    "## MONGO DB\n",
    "------------\n",
    "\n",
    "Mongo DB es una base de datos no relacional. Toda la información necesaria a su instalación se puede encontrar en: [Instalación MongoDB en Ubuntu](https://www.mongodb.com/docs/manual/tutorial/install-mongodb-on-ubuntu/)\n",
    "\n",
    "Una vez iniciado mongoDB en local podemos acceder al mismo empleando la URI local: `mongodb://localhost:27017`.\n",
    "\n",
    "Para manejar mongoDB en python debemos de instalar la libreria pymongo y importar MongoClient.\n",
    "\n",
    "Un ejemplo de como iniciar mongo en python:\n",
    "\n",
    "```\n",
    "from pymongo import MongoClient\n",
    "\n",
    "# connect with the client\n",
    "Mongo_URI = 'mongodb://localhost:27017'\n",
    "client = MongoClient(Mongo_URI)\n",
    "\n",
    "# connect with the database\n",
    "db = client.<databasename>\n",
    "\n",
    "# connect with a collection\n",
    "collection = db.<collectionname>\n",
    "```\n",
    "\n",
    "Dentro de cada colección encontramos documetos que simbolizaría cada entrada en la base de datos. Por ejemplo, en la base de datos *Northwind* encontramos la colección *Customers*, con documentos haciendo referencia a cada uno de esos clientes."
   ]
  },
  {
   "cell_type": "code",
   "execution_count": 9,
   "metadata": {},
   "outputs": [
    {
     "name": "stdout",
     "output_type": "stream",
     "text": [
      "Server Status:\n",
      "False\n",
      "\n",
      "Has accedido con éxito a la colección clientes\n",
      "El objeto colección : \n",
      "Collection(Database(MongoClient(host=['localhost:27017'], document_class=dict, tz_aware=False, connect=True), 'Northwind'), 'Customers')\n"
     ]
    }
   ],
   "source": [
    "from pymongo import MongoClient, collation\n",
    "from bson.objectid import ObjectId\n",
    "from pprint import pprint\n",
    "\n",
    "MONGO_URI=\"mongodb://localhost:27017\"\n",
    "client = MongoClient(MONGO_URI)\n",
    "db = client.Northwind\n",
    "collection = db.Customers\n",
    "\n",
    "print(\"\\nHas accedido con éxito a la colección clientes\")\n",
    "print(f\"El objeto colección : \\n{collection}\")"
   ]
  },
  {
   "attachments": {},
   "cell_type": "markdown",
   "metadata": {},
   "source": [
    "### BUSQUEDA EN MONGO:\n",
    "\n",
    "Una vez hemos cargado un objeto que nos permite conectarnos con la base de datos a la colección *Customers* podemos realizar búsquedas empleando los siguientes comandos:\n",
    "\n",
    "1. \\<CollectionObject\\>.find({}) : toma un objeto tipo diccionario con los criterios de búsqueda y devuelve un cursor con todos los resultados que satisfagan los criterios especificados.\n",
    "\n",
    "1. \\<CollectionObject\\>.find_one({}) : similar a find pero solo devuelve el primer resultado que encuentra en la base de datos.\n",
    "\n",
    "1. \\<CollectionObject\\>.aggregate([]) : recibe una colección de objetos y añadir varios filtros para buscar en varias bases de datos o con varios criterios distintos.\n",
    "\n",
    "**¿Como construir los criterios de busqueda?**:\n",
    "\n",
    "Ejemplo de como buscar todos los clientes de un país:\n",
    "\n",
    "```\n",
    "{\n",
    "    \"Country\": \"USA\"\n",
    "}\n",
    "```\n",
    "\n",
    "Ejemplo de como excluir a los clientes de un país:\n",
    "\n",
    "```\n",
    "{\n",
    "    \"Country\": { \"$ne\" : \"USA\"}\n",
    "}\n",
    "```"
   ]
  }
 ],
 "metadata": {
  "kernelspec": {
   "display_name": "Python 3",
   "language": "python",
   "name": "python3"
  },
  "language_info": {
   "codemirror_mode": {
    "name": "ipython",
    "version": 3
   },
   "file_extension": ".py",
   "mimetype": "text/x-python",
   "name": "python",
   "nbconvert_exporter": "python",
   "pygments_lexer": "ipython3",
   "version": "3.10.6"
  },
  "orig_nbformat": 4,
  "vscode": {
   "interpreter": {
    "hash": "31f2aee4e71d21fbe5cf8b01ff0e069b9275f58929596ceb00d14d90e3e16cd6"
   }
  }
 },
 "nbformat": 4,
 "nbformat_minor": 2
}
